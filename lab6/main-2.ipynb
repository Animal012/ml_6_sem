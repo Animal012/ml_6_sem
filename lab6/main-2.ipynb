{
  "cells": [
    {
      "cell_type": "code",
      "execution_count": 8,
      "id": "wy6FNZ6PzB8f",
      "metadata": {
        "colab": {
          "base_uri": "https://localhost:8080/"
        },
        "id": "wy6FNZ6PzB8f",
        "outputId": "9b35934f-a87a-46af-ccdf-8aee5d026748"
      },
      "outputs": [
        {
          "name": "stdout",
          "output_type": "stream",
          "text": [
            "Requirement already satisfied: gmdh in /usr/local/lib/python3.11/dist-packages (1.0.3)\n",
            "Requirement already satisfied: docstring-inheritance in /usr/local/lib/python3.11/dist-packages (from gmdh) (2.2.2)\n",
            "Requirement already satisfied: numpy in /usr/local/lib/python3.11/dist-packages (from gmdh) (1.24.4)\n",
            "Requirement already satisfied: numpy==1.24.4 in /usr/local/lib/python3.11/dist-packages (1.24.4)\n"
          ]
        }
      ],
      "source": [
        "!pip install gmdh\n",
        "!pip install numpy==1.24.4"
      ]
    },
    {
      "cell_type": "code",
      "execution_count": 9,
      "id": "3783f282-d246-4b7b-a459-08d1c16f2831",
      "metadata": {
        "id": "3783f282-d246-4b7b-a459-08d1c16f2831"
      },
      "outputs": [],
      "source": [
        "import warnings\n",
        "warnings.filterwarnings(\"ignore\", category=ImportWarning)\n",
        "import pandas as pd\n",
        "import numpy as np\n",
        "import seaborn as sns\n",
        "import matplotlib.pyplot as plt\n",
        "from sklearn.model_selection import train_test_split\n",
        "from sklearn.preprocessing import StandardScaler\n",
        "from sklearn.ensemble import RandomForestRegressor, GradientBoostingRegressor, StackingRegressor\n",
        "from sklearn.linear_model import LinearRegression\n",
        "from sklearn.neural_network import MLPRegressor\n",
        "from sklearn.metrics import mean_absolute_error, r2_score\n",
        "from gmdh import Combi, Mia\n",
        "from sklearn.datasets import fetch_california_housing"
      ]
    },
    {
      "cell_type": "code",
      "execution_count": 10,
      "id": "8842a240-5e09-4fce-8955-c8382e1767fe",
      "metadata": {
        "colab": {
          "base_uri": "https://localhost:8080/"
        },
        "id": "8842a240-5e09-4fce-8955-c8382e1767fe",
        "outputId": "e5adb2d4-e239-4cdd-8094-26cd4b439edc"
      },
      "outputs": [
        {
          "name": "stdout",
          "output_type": "stream",
          "text": [
            "1) Загрузка и предобработка данных...\n",
            " → Train shape: (16512, 8), Test shape: (4128, 8)\n",
            "\n",
            "4) Обучение GMDH на полной выборке...\n",
            " GMDH Linear (Combi) trained\n",
            " GMDH Nonlinear (Mia) trained\n"
          ]
        }
      ],
      "source": [
        "from sklearn.datasets import fetch_california_housing\n",
        "from sklearn.model_selection import train_test_split\n",
        "from sklearn.preprocessing import StandardScaler\n",
        "from gmdh import Combi, Mia\n",
        "import pandas as pd\n",
        "\n",
        "# 1) Загрузка и предобработка данных\n",
        "print(\"1) Загрузка и предобработка данных...\")\n",
        "california = fetch_california_housing()\n",
        "df = pd.DataFrame(california.data, columns=california.feature_names)\n",
        "df['Price'] = california.target  # Добавляем целевую переменную (цена)\n",
        "\n",
        "# Разделение данных на признаки (X) и целевую переменную (y)\n",
        "X = df.drop(columns=['Price'])\n",
        "y = df['Price']\n",
        "\n",
        "# Масштабирование признаков\n",
        "scaler = StandardScaler()\n",
        "X_scaled = scaler.fit_transform(X)\n",
        "\n",
        "# Разделение данных (80% для обучения, 20% для теста)\n",
        "X_train, X_test, y_train, y_test = train_test_split(X_scaled, y, train_size=0.8, random_state=42)\n",
        "print(f\" → Train shape: {X_train.shape}, Test shape: {X_test.shape}\")\n",
        "\n",
        "# Подготовка данных для GMDH (немасштабированные для совместимости)\n",
        "X_train_gmdh, X_test_gmdh, y_train_gmdh, y_test_gmdh = train_test_split(X, y, train_size=0.8, random_state=42)\n",
        "X_train_np = X_train_gmdh.to_numpy(dtype=float)\n",
        "X_test_np = X_test_gmdh.to_numpy(dtype=float)\n",
        "y_train_np = y_train_gmdh.to_numpy(dtype=float).ravel()\n",
        "y_test_np = y_test_gmdh.to_numpy(dtype=float).ravel()\n",
        "\n",
        "print(\"\\n4) Обучение GMDH на полной выборке...\")\n",
        "try:\n",
        "    gmdh_linear = Combi()\n",
        "    gmdh_linear.fit(X_train_np, y_train_np)\n",
        "    print(\" GMDH Linear (Combi) trained\")\n",
        "except Exception as e:\n",
        "    print(f\"Ошибка в GMDH Linear (Combi): {e}\")\n",
        "    gmdh_linear = None\n",
        "\n",
        "# Обучение GMDH Nonlinear (Mia)\n",
        "try:\n",
        "    gmdh_nonlinear = Mia()\n",
        "    gmdh_nonlinear.fit(X_train_np, y_train_np)\n",
        "    print(\" GMDH Nonlinear (Mia) trained\")\n",
        "except Exception as e:\n",
        "    print(f\"Ошибка в GMDH Nonlinear (Mia): {e}\")\n",
        "    gmdh_nonlinear = None"
      ]
    },
    {
      "cell_type": "code",
      "execution_count": 11,
      "id": "712f959a-e6d0-4465-af49-325d5491426c",
      "metadata": {
        "colab": {
          "base_uri": "https://localhost:8080/"
        },
        "id": "712f959a-e6d0-4465-af49-325d5491426c",
        "outputId": "ceddfeba-eabd-4d64-c2d7-92af85568c90"
      },
      "outputs": [
        {
          "name": "stdout",
          "output_type": "stream",
          "text": [
            "\n",
            "2) Обучение StackingRegressor...\n",
            " Stacking trained\n"
          ]
        }
      ],
      "source": [
        "print(\"\\n2) Обучение StackingRegressor...\")\n",
        "stack_model = StackingRegressor(\n",
        "    estimators=[\n",
        "        ('rf', RandomForestRegressor(n_estimators=50, random_state=42)),\n",
        "        ('gb', GradientBoostingRegressor(n_estimators=50, random_state=42))\n",
        "    ],\n",
        "    final_estimator=LinearRegression()\n",
        ")\n",
        "\n",
        "stack_model.fit(X_train, y_train)\n",
        "print(\" Stacking trained\")"
      ]
    },
    {
      "cell_type": "code",
      "execution_count": 12,
      "id": "496cda21-2ac6-48aa-ad82-df4b5a3f1f6e",
      "metadata": {
        "colab": {
          "base_uri": "https://localhost:8080/"
        },
        "id": "496cda21-2ac6-48aa-ad82-df4b5a3f1f6e",
        "outputId": "a5fe76e3-c9d1-44d5-da3d-30ebfb9d6e6d"
      },
      "outputs": [
        {
          "name": "stdout",
          "output_type": "stream",
          "text": [
            "\n",
            "3) Обучение MLPRegressor...\n",
            " MLP trained\n"
          ]
        }
      ],
      "source": [
        "print(\"\\n3) Обучение MLPRegressor...\")\n",
        "mlp_model = MLPRegressor(hidden_layer_sizes=(64, 32), max_iter=1000, random_state=42)\n",
        "mlp_model.fit(X_train, y_train)\n",
        "print(\" MLP trained\")"
      ]
    },
    {
      "cell_type": "code",
      "execution_count": 13,
      "id": "484bd083-00de-4b70-8564-c7975bdf9da3",
      "metadata": {
        "colab": {
          "base_uri": "https://localhost:8080/"
        },
        "id": "484bd083-00de-4b70-8564-c7975bdf9da3",
        "outputId": "7ab0bc7a-99e8-402d-be72-1cf37c18eb62"
      },
      "outputs": [
        {
          "name": "stdout",
          "output_type": "stream",
          "text": [
            "\n",
            "5) Оценка качества всех моделей:\n",
            " • Stacking: MAE = 0.33, R² = 0.8034\n",
            " • MLP: MAE = 0.34, R² = 0.8037\n",
            " • GMDH-Linear: MAE = 0.53, R² = 0.5752\n",
            " • GMDH-Nonlinear: MAE = 0.59, R² = 0.5144\n"
          ]
        }
      ],
      "source": [
        "# 5. Оценка качества\n",
        "print(\"\\n5) Оценка качества всех моделей:\")\n",
        "models = {\n",
        "    'Stacking': (stack_model, X_test, y_test),\n",
        "    'MLP': (mlp_model, X_test, y_test),\n",
        "    'GMDH-Linear': (gmdh_linear, X_test_np, y_test_np),\n",
        "    'GMDH-Nonlinear': (gmdh_nonlinear, X_test_np, y_test_np)\n",
        "}\n",
        "\n",
        "results = []\n",
        "for name, (model, X_eval, y_eval) in models.items():\n",
        "    if model is None:\n",
        "        print(f\" • {name}: Пропущен из-за ошибки\")\n",
        "        results.append({'Model': name, 'MAE': np.nan, 'R2': np.nan})\n",
        "        continue\n",
        "    y_pred = model.predict(X_eval)\n",
        "    mae = mean_absolute_error(y_eval, y_pred)\n",
        "    r2 = r2_score(y_eval, y_pred)\n",
        "    results.append({'Model': name, 'MAE': mae, 'R2': r2})\n",
        "    print(f\" • {name}: MAE = {mae:.2f}, R² = {r2:.4f}\")"
      ]
    }
  ],
  "metadata": {
    "colab": {
      "provenance": [],
      "toc_visible": true
    },
    "kernelspec": {
      "display_name": "Python 3 (ipykernel)",
      "language": "python",
      "name": "python3"
    },
    "language_info": {
      "codemirror_mode": {
        "name": "ipython",
        "version": 3
      },
      "file_extension": ".py",
      "mimetype": "text/x-python",
      "name": "python",
      "nbconvert_exporter": "python",
      "pygments_lexer": "ipython3",
      "version": "3.10.11"
    }
  },
  "nbformat": 4,
  "nbformat_minor": 5
}
